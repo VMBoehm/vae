{
 "cells": [
  {
   "cell_type": "markdown",
   "metadata": {
    "colab_type": "text",
    "id": "view-in-github"
   },
   "source": [
    "<a href=\"https://colab.research.google.com/github/VMBoehm/DeNoPa/blob/master/TrainNVP_and_measure_Reconstruction_Noise.ipynb\" target=\"_parent\"><img src=\"https://colab.research.google.com/assets/colab-badge.svg\" alt=\"Open In Colab\"/></a>"
   ]
  },
  {
   "cell_type": "code",
   "execution_count": 1,
   "metadata": {
    "colab": {
     "base_uri": "https://localhost:8080/",
     "height": 34
    },
    "colab_type": "code",
    "id": "D-Fe5G8m1FTC",
    "outputId": "ff7c28d3-7cf0-40e4-a8b8-88eb520ae09c"
   },
   "outputs": [],
   "source": [
    "import numpy as np\n",
    "import os\n",
    "import matplotlib\n",
    "import matplotlib.pyplot as plt\n",
    "import matplotlib.cm as cm\n",
    "from matplotlib import rcParams\n",
    "import sys\n",
    "import pickle\n",
    " \n",
    "plt.rcParams.update({'font.family' : 'lmodern', 'font.size': 16,                                                                                                                                                    \n",
    "                     'axes.labelsize': 16, 'legend.fontsize': 12, \n",
    "                     'xtick.labelsize': 16, 'ytick.labelsize': 16, 'axes.titlesize': 16,\n",
    "                     'axes.linewidth': 1.5}) "
   ]
  },
  {
   "cell_type": "code",
   "execution_count": 2,
   "metadata": {
    "colab": {
     "base_uri": "https://localhost:8080/",
     "height": 168
    },
    "colab_type": "code",
    "id": "-AEYmOsH1FTI",
    "outputId": "5e5d0d77-378f-4cc2-812f-a69eaf08d888"
   },
   "outputs": [],
   "source": [
    "import tensorflow as tf\n",
    "import tensorflow_probability as tfp\n",
    "import tensorflow_hub as hub\n",
    "tfd = tfp.distributions\n",
    "tfb = tfp.bijectors"
   ]
  },
  {
   "cell_type": "code",
   "execution_count": 3,
   "metadata": {},
   "outputs": [],
   "source": [
    "sys.path.append('../')\n",
    "from vae.model import get_prior, get_posterior, get_likelihood"
   ]
  },
  {
   "cell_type": "code",
   "execution_count": 4,
   "metadata": {},
   "outputs": [
    {
     "name": "stderr",
     "output_type": "stream",
     "text": [
      "WARNING: Logging before flag parsing goes to stderr.\n",
      "W1031 08:17:31.489459 140459735263040 lazy_loader.py:50] \n",
      "The TensorFlow contrib module will not be included in TensorFlow 2.0.\n",
      "For more information, please see:\n",
      "  * https://github.com/tensorflow/community/blob/master/rfcs/20180907-contrib-sunset.md\n",
      "  * https://github.com/tensorflow/addons\n",
      "  * https://github.com/tensorflow/io (for I/O related ops)\n",
      "If you depend on functionality not listed there, please file an issue.\n",
      "\n"
     ]
    }
   ],
   "source": [
    "import vae.create_datasets as crd"
   ]
  },
  {
   "cell_type": "code",
   "execution_count": 5,
   "metadata": {},
   "outputs": [],
   "source": [
    "data_sets  = ['mnist','fmnist']"
   ]
  },
  {
   "cell_type": "code",
   "execution_count": 6,
   "metadata": {},
   "outputs": [],
   "source": [
    "likelihood  = 'Gauss'\n",
    "class_label = -1\n",
    "network_type= 'fully_connected'\n",
    "latent_size = 8\n",
    "AE          = False"
   ]
  },
  {
   "cell_type": "code",
   "execution_count": 7,
   "metadata": {},
   "outputs": [],
   "source": [
    "params={}\n",
    "module_dirs={}\n",
    "for data_set in data_sets:\n",
    "    if AE:\n",
    "        param = pickle.load(open('../params/params_%s_%s_%d_%d_%s-AE.pkl'%(data_set,likelihood,class_label,latent_size, network_type),'rb'))\n",
    "    else:\n",
    "        param = pickle.load(open('../params/params_%s_%s_%d_%d_%s.pkl'%(data_set,likelihood,class_label,latent_size,network_type),'rb'))\n",
    "    module_dirs[data_set]= param['module_dir']\n",
    "    params[data_set]=param"
   ]
  },
  {
   "cell_type": "code",
   "execution_count": 8,
   "metadata": {},
   "outputs": [],
   "source": [
    "generator_path ={}\n",
    "encoder_path   ={} \n",
    "for jj,dataset in enumerate(data_sets):\n",
    "    module_dir       = os.path.join(module_dirs[dataset],'vae')\n",
    "    all_subdirs      = [os.path.join(module_dir,d) for d in os.listdir(module_dir+'/') if os.path.isdir(os.path.join(module_dir,d))]\n",
    "    latest_subdir    = max(all_subdirs, key=os.path.getmtime)\n",
    "    generator_path[dataset] = os.path.join(latest_subdir,'decoder')\n",
    "    encoder_path[dataset]   = os.path.join(latest_subdir,'encoder')"
   ]
  },
  {
   "cell_type": "code",
   "execution_count": 9,
   "metadata": {
    "colab": {},
    "colab_type": "code",
    "id": "8puPFE90P0aD"
   },
   "outputs": [
    {
     "name": "stdout",
     "output_type": "stream",
     "text": [
      "{'mnist': '/home/nessa/Documents/codes/vae/modules/mnist/Gauss/class-1/latent_size8/net_type_fully_connected/vae/1571979950/encoder', 'fmnist': '/home/nessa/Documents/codes/vae/modules/fmnist/Gauss/class-1/latent_size8/net_type_fully_connected/vae/1571995072/encoder'}\n"
     ]
    }
   ],
   "source": [
    "print(encoder_path)"
   ]
  },
  {
   "cell_type": "code",
   "execution_count": 10,
   "metadata": {},
   "outputs": [
    {
     "name": "stdout",
     "output_type": "stream",
     "text": [
      "loading mnist dataset\n",
      "loading fmnist dataset\n"
     ]
    }
   ],
   "source": [
    "train_input_fn ={}\n",
    "eval_input_fn  ={}\n",
    "batch_size     = 512\n",
    "for dataset in data_sets:\n",
    "    param = params[dataset]\n",
    "    train_input_fn[dataset], eval_input_fn[dataset] = crd.build_input_fns(param['data_dir'],param['data_set'],1,label=param['class_label'],flatten=True)\n"
   ]
  },
  {
   "cell_type": "code",
   "execution_count": 30,
   "metadata": {
    "colab": {
     "base_uri": "https://localhost:8080/",
     "height": 118
    },
    "colab_type": "code",
    "id": "yvTEYw44O_5q",
    "outputId": "fca6575b-6a27-49b2-bca4-8f5b58feaa0b"
   },
   "outputs": [
    {
     "name": "stdout",
     "output_type": "stream",
     "text": [
      "mean Tensor(\"module_2_apply_default_1/model/decoder/dense_4/BiasAdd:0\", shape=(?, 784), dtype=float32)\n",
      "mean Tensor(\"module_2_apply_default_2/model/decoder/dense_4/BiasAdd:0\", shape=(?, 784), dtype=float32)\n",
      "mean Tensor(\"module_3_apply_default_1/model/decoder/dense_4/BiasAdd:0\", shape=(?, 784), dtype=float32)\n",
      "mean Tensor(\"module_3_apply_default_2/model/decoder/dense_4/BiasAdd:0\", shape=(?, 784), dtype=float32)\n",
      "mean Tensor(\"module_2_apply_default_3/model/decoder/dense_4/BiasAdd:0\", shape=(?, 784), dtype=float32)\n",
      "mean Tensor(\"module_2_apply_default_4/model/decoder/dense_4/BiasAdd:0\", shape=(?, 784), dtype=float32)\n",
      "mean Tensor(\"module_3_apply_default_3/model/decoder/dense_4/BiasAdd:0\", shape=(?, 784), dtype=float32)\n",
      "mean Tensor(\"module_3_apply_default_4/model/decoder/dense_4/BiasAdd:0\", shape=(?, 784), dtype=float32)\n",
      "mean Tensor(\"module_2_apply_default_5/model/decoder/dense_4/BiasAdd:0\", shape=(8, 784), dtype=float32)\n",
      "mean Tensor(\"module_3_apply_default_5/model/decoder/dense_4/BiasAdd:0\", shape=(8, 784), dtype=float32)\n"
     ]
    }
   ],
   "source": [
    "tf.reset_default_graph()\n",
    "\n",
    "lr            = tf.placeholder_with_default(0.001,shape=[])\n",
    "sigma1        = tf.placeholder_with_default(0.11,shape=[])\n",
    "sigma2        = tf.placeholder_with_default(0.1,shape=[])\n",
    "sample_size   = tf.placeholder_with_default(1024,shape=[])\n",
    "\n",
    "data1test     = eval_input_fn['mnist']()\n",
    "data2test     = eval_input_fn['fmnist']()\n",
    "data1train    = train_input_fn['mnist']()\n",
    "data2train    = train_input_fn['fmnist']()\n",
    "encoder1      = hub.Module(encoder_path['mnist'], trainable=False)\n",
    "encoder2      = hub.Module(encoder_path['fmnist'], trainable=False)\n",
    "generator1    = hub.Module(generator_path['mnist'], trainable=False)\n",
    "generator2    = hub.Module(generator_path['fmnist'], trainable=False)\n",
    "\n",
    "prior         = get_prior(params['mnist']['latent_size'])\n",
    "prior_sample  = prior.sample(sample_size)\n",
    "prior_sample_small = prior.sample(8)\n",
    "\n",
    "\n",
    "likelihood1   = get_likelihood(generator1,params['mnist']['likelihood'],sigma1)\n",
    "likelihood2   = get_likelihood(generator2,params['mnist']['likelihood'],sigma2)\n",
    "\n",
    "def get_reconstruction(encoder, generator, x):\n",
    "    encoded,var = tf.split(encoder({'x':x},as_dict=True)['z'], 2, axis=-1)\n",
    "    recon       = generator({'z':encoded},as_dict=True)['x']\n",
    "    return recon\n",
    "    \n",
    "def get_posterior(likelihood, prior):\n",
    "    def posterior(z,x):\n",
    "        return -(likelihood(z).log_prob(x)+prior.log_prob(z))\n",
    "    return posterior\n",
    "\n",
    "recon1         = get_reconstruction(encoder2,generator2,data1test)\n",
    "recon2         = get_reconstruction(encoder1,generator1,data2test)\n",
    "\n",
    "prob11         = tf.reduce_mean(likelihood1(prior_sample).log_prob(data1test))\n",
    "prob12         = tf.reduce_mean(likelihood1(prior_sample).log_prob(data2test))\n",
    "\n",
    "prob21         = tf.reduce_mean(likelihood2(prior_sample).log_prob(data1test))\n",
    "prob22         = tf.reduce_mean(likelihood2(prior_sample).log_prob(data2test))\n",
    "\n",
    "prob11_        = tf.reduce_mean(likelihood1(prior_sample).log_prob(data1train))\n",
    "prob12_        = tf.reduce_mean(likelihood1(prior_sample).log_prob(data2train))\n",
    "\n",
    "prob21_        = tf.reduce_mean(likelihood2(prior_sample).log_prob(data1train))\n",
    "prob22_        = tf.reduce_mean(likelihood2(prior_sample).log_prob(data2train))\n",
    "\n",
    "x_samples1     = likelihood1(prior_sample_small).mean()\n",
    "x_samples2     = likelihood2(prior_sample_small).mean()\n"
   ]
  },
  {
   "cell_type": "code",
   "execution_count": 31,
   "metadata": {
    "colab": {},
    "colab_type": "code",
    "id": "Soh1tnGH1FTW"
   },
   "outputs": [],
   "source": [
    "sess = tf.Session()\n",
    "sess.run(tf.global_variables_initializer())"
   ]
  },
  {
   "cell_type": "code",
   "execution_count": 36,
   "metadata": {},
   "outputs": [
    {
     "data": {
      "image/png": "[encoded data removed]",
      "text/plain": [
       "<Figure size 576x288 with 8 Axes>"
      ]
     },
     "metadata": {
      "needs_background": "light"
     },
     "output_type": "display_data"
    }
   ],
   "source": [
    "jj=1\n",
    "plt.figure(figsize=(4*2,2*2))\n",
    "for ii in range(4):\n",
    "    rec1, rec2 = sess.run([recon1,recon2])\n",
    "    plt.subplot(2,4,jj)\n",
    "    plt.imshow(rec1.reshape(28,28),cmap='gray',vmin=0, vmax=1)\n",
    "    plt.axis('off')\n",
    "    jj+=1\n",
    "    plt.subplot(2,4,jj)\n",
    "    plt.imshow(rec2.reshape(28,28),cmap='gray',vmin=0, vmax=1)\n",
    "    plt.axis('off')\n",
    "    jj+=1"
   ]
  },
  {
   "cell_type": "code",
   "execution_count": 25,
   "metadata": {},
   "outputs": [],
   "source": [
    "p11, p12, p21, p22 = [], [], [], []\n",
    "p11t, p12t, p21t, p22t = [], [], [], []\n",
    "for ii in range(2048):\n",
    "    p11_, p12_, p21_, p22_= sess.run([prob11, prob12, prob21, prob22], feed_dict={sample_size:4096})\n",
    "    p11+=[p11_]\n",
    "    p12+=[p12_]\n",
    "    p21+=[p21_]\n",
    "    p22+=[p22_]\n",
    "    p11t_, p12t_, p21t_, p22t_= sess.run([prob11_, prob12_, prob21_, prob22_], feed_dict={sample_size:4096})\n",
    "    p11t+=[p11t_]\n",
    "    p12t+=[p12t_]\n",
    "    p21t+=[p21t_]\n",
    "    p22t+=[p22t_]"
   ]
  },
  {
   "cell_type": "code",
   "execution_count": 26,
   "metadata": {},
   "outputs": [
    {
     "data": {
      "text/plain": [
       "(2048,)"
      ]
     },
     "execution_count": 26,
     "metadata": {},
     "output_type": "execute_result"
    }
   ],
   "source": [
    "np.asarray(p11).shape"
   ]
  },
  {
   "cell_type": "code",
   "execution_count": 27,
   "metadata": {},
   "outputs": [
    {
     "data": {
      "text/plain": [
       "Text(0.5, 0, 'log p(x)')"
      ]
     },
     "execution_count": 27,
     "metadata": {},
     "output_type": "execute_result"
    },
    {
     "data": {
      "image/png": "[encoded data removed]",
      "text/plain": [
       "<Figure size 432x288 with 1 Axes>"
      ]
     },
     "metadata": {
      "needs_background": "light"
     },
     "output_type": "display_data"
    }
   ],
   "source": [
    "#decoder trained on mnist\n",
    "plt.title('decoder trained on mnist')\n",
    "_, bins, _=plt.hist(p11, label='mnist test',density=True, range=(-12000,-500), bins=50)\n",
    "_=plt.hist(p11t, alpha=0.6,label='mnist train', density=True, bins=bins)\n",
    "_=plt.hist(p12, alpha=0.6,label='fmnist', density=True, bins=bins)\n",
    "plt.legend()\n",
    "plt.xlabel('log p(x)')"
   ]
  },
  {
   "cell_type": "code",
   "execution_count": 28,
   "metadata": {},
   "outputs": [
    {
     "data": {
      "text/plain": [
       "Text(0.5, 0, 'log p(x)')"
      ]
     },
     "execution_count": 28,
     "metadata": {},
     "output_type": "execute_result"
    },
    {
     "data": {
      "image/png": "[encoded data removed]",
      "text/plain": [
       "<Figure size 432x288 with 1 Axes>"
      ]
     },
     "metadata": {
      "needs_background": "light"
     },
     "output_type": "display_data"
    }
   ],
   "source": [
    "#decoder trained on mnist\n",
    "plt.title('decoder trained on fmnist')\n",
    "_, bins, _=plt.hist(p21, label='mnist',density=True, range=(-12000,-500), bins=50)\n",
    "_=plt.hist(p22, alpha=0.6,label='fmnist', density=True, bins=bins)\n",
    "_=plt.hist(p22t, alpha=0.6,label='fmnist train', density=True, bins=bins)\n",
    "plt.legend()\n",
    "plt.xlabel('log p(x)')"
   ]
  },
  {
   "cell_type": "code",
   "execution_count": 18,
   "metadata": {},
   "outputs": [
    {
     "data": {
      "image/png": "[encoded data removed]",
      "text/plain": [
       "<Figure size 576x288 with 8 Axes>"
      ]
     },
     "metadata": {
      "needs_background": "light"
     },
     "output_type": "display_data"
    }
   ],
   "source": [
    "x_sample=sess.run(x_samples1)\n",
    "jj=1\n",
    "plt.figure(figsize=(4*2,2*2))\n",
    "for ii in range(8):\n",
    "    plt.subplot(2,4,jj)\n",
    "    plt.imshow(x_sample[ii].reshape(28,28),cmap='gray',vmin=0, vmax=1)\n",
    "    plt.axis('off')\n",
    "    jj+=1"
   ]
  },
  {
   "cell_type": "code",
   "execution_count": 19,
   "metadata": {},
   "outputs": [
    {
     "data": {
      "image/png": "[encoded data removed]",
      "text/plain": [
       "<Figure size 576x288 with 8 Axes>"
      ]
     },
     "metadata": {
      "needs_background": "light"
     },
     "output_type": "display_data"
    }
   ],
   "source": [
    "x_sample=sess.run(x_samples2)\n",
    "jj=1\n",
    "plt.figure(figsize=(4*2,2*2))\n",
    "for ii in range(8):\n",
    "    plt.subplot(2,4,jj)\n",
    "    plt.imshow(x_sample[ii].reshape(28,28),cmap='gray',vmin=0, vmax=1)\n",
    "    plt.axis('off')\n",
    "    jj+=1"
   ]
  },
  {
   "cell_type": "code",
   "execution_count": null,
   "metadata": {},
   "outputs": [],
   "source": []
  }
 ],
 "metadata": {
  "accelerator": "GPU",
  "colab": {
   "collapsed_sections": [],
   "include_colab_link": true,
   "name": "TrainNVP and measure Reconstruction Noise.ipynb",
   "provenance": [],
   "version": "0.3.2"
  },
  "kernelspec": {
   "display_name": "TensorFlow",
   "language": "python",
   "name": "tflow"
  },
  "language_info": {
   "codemirror_mode": {
    "name": "ipython",
    "version": 3
   },
   "file_extension": ".py",
   "mimetype": "text/x-python",
   "name": "python",
   "nbconvert_exporter": "python",
   "pygments_lexer": "ipython3",
   "version": "3.7.3"
  }
 },
 "nbformat": 4,
 "nbformat_minor": 1
}
