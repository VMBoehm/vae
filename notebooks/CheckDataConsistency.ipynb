{
 "cells": [
  {
   "cell_type": "markdown",
   "metadata": {
    "colab_type": "text",
    "id": "view-in-github"
   },
   "source": [
    "<a href=\"https://colab.research.google.com/github/VMBoehm/DeNoPa/blob/master/TrainNVP_and_measure_Reconstruction_Noise.ipynb\" target=\"_parent\"><img src=\"https://colab.research.google.com/assets/colab-badge.svg\" alt=\"Open In Colab\"/></a>"
   ]
  },
  {
   "cell_type": "code",
   "execution_count": 1,
   "metadata": {
    "colab": {
     "base_uri": "https://localhost:8080/",
     "height": 34
    },
    "colab_type": "code",
    "id": "D-Fe5G8m1FTC",
    "outputId": "ff7c28d3-7cf0-40e4-a8b8-88eb520ae09c"
   },
   "outputs": [],
   "source": [
    "import numpy as np\n",
    "import os\n",
    "import matplotlib\n",
    "import matplotlib.pyplot as plt\n",
    "import matplotlib.cm as cm\n",
    "from matplotlib import rcParams\n",
    "import sys\n",
    "import pickle\n",
    " \n",
    "plt.rcParams.update({'font.family' : 'lmodern', 'font.size': 16,                                                                                                                                                    \n",
    "                     'axes.labelsize': 16, 'legend.fontsize': 12, \n",
    "                     'xtick.labelsize': 16, 'ytick.labelsize': 16, 'axes.titlesize': 16,\n",
    "                     'axes.linewidth': 1.5}) "
   ]
  },
  {
   "cell_type": "code",
   "execution_count": 2,
   "metadata": {
    "colab": {
     "base_uri": "https://localhost:8080/",
     "height": 168
    },
    "colab_type": "code",
    "id": "-AEYmOsH1FTI",
    "outputId": "5e5d0d77-378f-4cc2-812f-a69eaf08d888"
   },
   "outputs": [],
   "source": [
    "import tensorflow as tf\n",
    "import tensorflow_probability as tfp\n",
    "import tensorflow_hub as hub\n",
    "tfd = tfp.distributions\n",
    "tfb = tfp.bijectors"
   ]
  },
  {
   "cell_type": "code",
   "execution_count": 3,
   "metadata": {},
   "outputs": [],
   "source": [
    "sys.path.append('../')\n",
    "from vae.model import get_prior, get_posterior, get_likelihood\n"
   ]
  },
  {
   "cell_type": "code",
   "execution_count": 4,
   "metadata": {},
   "outputs": [
    {
     "name": "stderr",
     "output_type": "stream",
     "text": [
      "WARNING: Logging before flag parsing goes to stderr.\n",
      "W1101 09:51:03.008670 139723418953536 lazy_loader.py:50] \n",
      "The TensorFlow contrib module will not be included in TensorFlow 2.0.\n",
      "For more information, please see:\n",
      "  * https://github.com/tensorflow/community/blob/master/rfcs/20180907-contrib-sunset.md\n",
      "  * https://github.com/tensorflow/addons\n",
      "  * https://github.com/tensorflow/io (for I/O related ops)\n",
      "If you depend on functionality not listed there, please file an issue.\n",
      "\n"
     ]
    }
   ],
   "source": [
    "import vae.create_datasets as crd\n",
    "import vae.load_data as ld\n",
    "from functools import partial\n",
    "load_funcs=dict(mnist=ld.load_mnist, fmnist=ld.load_fmnist, cifar10=ld.load_cifar10, sn=ld.load_sn_lightcurves)\n"
   ]
  },
  {
   "cell_type": "code",
   "execution_count": 5,
   "metadata": {},
   "outputs": [],
   "source": [
    "data_sets  = ['mnist','fmnist']"
   ]
  },
  {
   "cell_type": "code",
   "execution_count": 6,
   "metadata": {},
   "outputs": [],
   "source": [
    "likelihood  = 'Gauss'\n",
    "class_label = -1\n",
    "network_type= 'fully_connected'\n",
    "latent_size = 8\n",
    "AE          = False\n",
    "batch_size  = 512"
   ]
  },
  {
   "cell_type": "code",
   "execution_count": 7,
   "metadata": {},
   "outputs": [],
   "source": [
    "params={}\n",
    "module_dirs={}\n",
    "for data_set in data_sets:\n",
    "    if AE:\n",
    "        param = pickle.load(open('../params/params_%s_%s_%d_%d_%s-AE.pkl'%(data_set,likelihood,class_label,latent_size, network_type),'rb'))\n",
    "    else:\n",
    "        param = pickle.load(open('../params/params_%s_%s_%d_%d_%s.pkl'%(data_set,likelihood,class_label,latent_size,network_type),'rb'))\n",
    "    module_dirs[data_set]= param['module_dir']\n",
    "    param['add_noise']=False\n",
    "    param['batch_size']=1\n",
    "    params[data_set]=param"
   ]
  },
  {
   "cell_type": "code",
   "execution_count": 8,
   "metadata": {},
   "outputs": [],
   "source": [
    "generator_path ={}\n",
    "encoder_path   ={} \n",
    "nvp_path       ={}\n",
    "for jj,dataset in enumerate(data_sets):\n",
    "    module_dir       = os.path.join(module_dirs[dataset],'vae')\n",
    "    all_subdirs      = [os.path.join(module_dir,d) for d in os.listdir(module_dir+'/') if os.path.isdir(os.path.join(module_dir,d))]\n",
    "    latest_subdir    = max(all_subdirs, key=os.path.getmtime)\n",
    "    generator_path[dataset] = os.path.join(latest_subdir,'decoder')\n",
    "    encoder_path[dataset]   = os.path.join(latest_subdir,'encoder')\n",
    "    nvp_path[dataset]       = os.path.join(module_dirs[dataset],'nvp')"
   ]
  },
  {
   "cell_type": "code",
   "execution_count": 9,
   "metadata": {
    "colab": {},
    "colab_type": "code",
    "id": "8puPFE90P0aD"
   },
   "outputs": [
    {
     "name": "stdout",
     "output_type": "stream",
     "text": [
      "{'mnist': '/home/nessa/Documents/codes/vae/modules/mnist/Gauss/class-1/latent_size8/net_type_fully_connected/vae/1571979950/encoder', 'fmnist': '/home/nessa/Documents/codes/vae/modules/fmnist/Gauss/class-1/latent_size8/net_type_fully_connected/vae/1571995072/encoder'}\n"
     ]
    }
   ],
   "source": [
    "print(encoder_path)"
   ]
  },
  {
   "cell_type": "code",
   "execution_count": 15,
   "metadata": {},
   "outputs": [],
   "source": [
    "data_train ={}\n",
    "data_test  ={}\n",
    "for dataset in data_sets:\n",
    "    param = params[dataset]\n",
    "    params['add_noise']=False\n",
    "    load_func                       = partial(load_funcs[param['data_set']])\n",
    "    x_train, y_train, x_test,y_test = load_func(param['data_dir'],flatten=True,add_noise=param['add_noise'])\n",
    "    data_train[dataset] = np.expand_dims(x_train,1)\n",
    "    data_test[dataset]  = np.expand_dims(x_train,1)"
   ]
  },
  {
   "cell_type": "code",
   "execution_count": 18,
   "metadata": {
    "colab": {
     "base_uri": "https://localhost:8080/",
     "height": 118
    },
    "colab_type": "code",
    "id": "yvTEYw44O_5q",
    "outputId": "fca6575b-6a27-49b2-bca4-8f5b58feaa0b"
   },
   "outputs": [
    {
     "name": "stdout",
     "output_type": "stream",
     "text": [
      "mean Tensor(\"module_2_apply_default_2/model/decoder/dense_4/BiasAdd:0\", shape=(?, 784), dtype=float32)\n",
      "mean Tensor(\"module_2_apply_default_3/model/decoder/dense_4/BiasAdd:0\", shape=(?, 784), dtype=float32)\n",
      "mean Tensor(\"module_3_apply_default_2/model/decoder/dense_4/BiasAdd:0\", shape=(?, 784), dtype=float32)\n",
      "mean Tensor(\"module_3_apply_default_3/model/decoder/dense_4/BiasAdd:0\", shape=(?, 784), dtype=float32)\n",
      "mean Tensor(\"module_2_apply_default_4/model/decoder/dense_4/BiasAdd:0\", shape=(?, 784), dtype=float32)\n",
      "mean Tensor(\"module_2_apply_default_5/model/decoder/dense_4/BiasAdd:0\", shape=(?, 784), dtype=float32)\n",
      "mean Tensor(\"module_3_apply_default_4/model/decoder/dense_4/BiasAdd:0\", shape=(?, 784), dtype=float32)\n",
      "mean Tensor(\"module_3_apply_default_5/model/decoder/dense_4/BiasAdd:0\", shape=(?, 784), dtype=float32)\n",
      "mean Tensor(\"module_2_apply_default_6/model/decoder/dense_4/BiasAdd:0\", shape=(8, 784), dtype=float32)\n",
      "mean Tensor(\"module_3_apply_default_6/model/decoder/dense_4/BiasAdd:0\", shape=(8, 784), dtype=float32)\n"
     ]
    }
   ],
   "source": [
    "tf.reset_default_graph()\n",
    "\n",
    "lr            = tf.placeholder_with_default(0.001,shape=[])\n",
    "#measured\n",
    "sigma1        = tf.placeholder_with_default(0.10673926,shape=[])\n",
    "sigma2        = tf.placeholder_with_default(0.10155665,shape=[])\n",
    "sample_size   = tf.placeholder_with_default(1024,shape=[])\n",
    "\n",
    "data1test     = tf.placeholder(tf.float32,[1,28*28])\n",
    "data2test     = tf.placeholder(tf.float32,[1,28*28])\n",
    "data1train    = tf.placeholder(tf.float32,[1,28*28])\n",
    "data2train    = tf.placeholder(tf.float32,[1,28*28])\n",
    "\n",
    "encoder1      = hub.Module(encoder_path['mnist'], trainable=False)\n",
    "encoder2      = hub.Module(encoder_path['fmnist'], trainable=False)\n",
    "generator1    = hub.Module(generator_path['mnist'], trainable=False)\n",
    "generator2    = hub.Module(generator_path['fmnist'], trainable=False)\n",
    "nvp1          = hub.Module(nvp_path['mnist'], trainable=False)\n",
    "nvp2          = hub.Module(nvp_path['fmnist'], trainable=False)\n",
    "\n",
    "prior         = get_prior(params['mnist']['latent_size'])\n",
    "prior_sample  = prior.sample(sample_size)\n",
    "prior_sample_small = prior.sample(8)\n",
    "\n",
    "\n",
    "likelihood1   = get_likelihood(generator1,params['mnist']['likelihood'],sigma1)\n",
    "likelihood2   = get_likelihood(generator2,params['mnist']['likelihood'],sigma2)\n",
    "\n",
    "def get_reconstruction(encoder, generator, x):\n",
    "    encoded,var = tf.split(encoder({'x':x},as_dict=True)['z'], 2, axis=-1)\n",
    "    recon       = generator({'z':encoded},as_dict=True)['x']\n",
    "    return recon, var\n",
    "\n",
    "def get_recon_error(encoder, generator, x):\n",
    "    recon, _ = get_reconstruction(encoder, generator,x)\n",
    "    recon_error = tf.sqrt(tf.reduce_mean((x-recon)*(x-recon)))    \n",
    "    return recon_error\n",
    "\n",
    "def get_posterior(likelihood, prior,nvp):\n",
    "    def posterior(z,x):\n",
    "        z_fwd = nvp({'z_sample':np.zeros((1,latent_size)),'sample_size':1, 'u_sample':z}, as_dict=True)['fwd_pass']\n",
    "        return -(likelihood(z_fwd).log_prob(x)+prior.log_prob(z))\n",
    "    return posterior\n",
    "\n",
    "def get_MC_px(likelihood,nvp,z_sample,x):\n",
    "    z_sample = nvp({'z_sample':np.zeros((1,latent_size)),'sample_size':1, 'u_sample':z_sample}, as_dict=True)['fwd_pass']\n",
    "    return tf.reduce_mean(likelihood(z_sample).log_prob(x))\n",
    "\n",
    "#------------------------------------------------------------------#\n",
    "\n",
    "recon21,var21       = get_reconstruction(encoder2,generator2,data1test)\n",
    "recon12,var12       = get_reconstruction(encoder1,generator1,data2test)\n",
    "recon11,var11       = get_reconstruction(encoder1,generator1,data1test)\n",
    "recon22,var22       = get_reconstruction(encoder2,generator2,data2test)\n",
    "\n",
    "#------------------------------------------------------------------#\n",
    "\n",
    "prob11         = get_MC_px(likelihood1,nvp1,prior_sample,data1test)\n",
    "prob12         = get_MC_px(likelihood1,nvp1,prior_sample,data2test)\n",
    "    \n",
    "prob21         = get_MC_px(likelihood2,nvp2,prior_sample,data1test)\n",
    "prob22         = get_MC_px(likelihood2,nvp2,prior_sample,data2test)\n",
    "\n",
    "prob11_        = get_MC_px(likelihood1,nvp1,prior_sample,data1train)\n",
    "prob12_        = get_MC_px(likelihood1,nvp1,prior_sample,data2train)\n",
    "\n",
    "prob21_        = get_MC_px(likelihood2,nvp2,prior_sample,data1train)\n",
    "prob22_        = get_MC_px(likelihood2,nvp2,prior_sample,data2train)\n",
    "    \n",
    "#------------------------------------------------------------------#\n",
    "    \n",
    "x_samples1     = likelihood1(nvp({'z_sample':np.zeros((1,latent_size)),'sample_size':1, 'u_sample':prior_sample_small}, as_dict=True)['fwd_pass']).mean()\n",
    "x_samples2     = likelihood1(nvp({'z_sample':np.zeros((1,latent_size)),'sample_size':1, 'u_sample':prior_sample_small}, as_dict=True)['fwd_pass']).mean()\n",
    "\n",
    "#------------------------------------------------------------------#\n",
    "\n",
    "rms11          = get_recon_error(encoder1,generator1,data1test)\n",
    "rms22          = get_recon_error(encoder2,generator2,data2test)\n",
    "rms12          = get_recon_error(encoder1,generator1,data2test)\n",
    "rms21          = get_recon_error(encoder2,generator2,data1test)\n",
    "\n",
    "#------------------------------------------------------------------#\n",
    "\n",
    "neg_log_post1  = get_posterior(likelihood1,prior,nvp1)\n",
    "neg_log_post2  = get_posterior(likelihood2,prior,nvp1)\n",
    "\n",
    "MAP            = tf.Variable(\n",
    "\n",
    "loss1          = neg_log_post1()\n",
    "optimizer      = tf.train.AdamOptimizer(learning_rate=lr)\n",
    "opt_op_MAP     = optimizer.minimize()"
   ]
  },
  {
   "cell_type": "code",
   "execution_count": 19,
   "metadata": {
    "colab": {},
    "colab_type": "code",
    "id": "Soh1tnGH1FTW"
   },
   "outputs": [],
   "source": [
    "sess = tf.Session()\n",
    "sess.run(tf.global_variables_initializer())"
   ]
  },
  {
   "cell_type": "code",
   "execution_count": 24,
   "metadata": {},
   "outputs": [
    {
     "name": "stdout",
     "output_type": "stream",
     "text": [
      "(1, 784)\n"
     ]
    }
   ],
   "source": [
    "print(data_test['mnist'][0].shape)\n"
   ]
  },
  {
   "cell_type": "code",
   "execution_count": 42,
   "metadata": {},
   "outputs": [
    {
     "data": {
      "image/png": "[encoded data removed]",
      "text/plain": [
       "<Figure size 576x288 with 6 Axes>"
      ]
     },
     "metadata": {
      "needs_background": "light"
     },
     "output_type": "display_data"
    }
   ],
   "source": [
    "a = np.random.randint(low=0,high=10000)\n",
    "jj=1\n",
    "plt.figure(figsize=(4*2,2*2))\n",
    "res = sess.run([data1test, recon11, recon21, data2test, recon22, recon12], feed_dict={data1test:data_test['mnist'][a],data2test:data_test['fmnist'][a]})\n",
    "for jj in range(6):\n",
    "    plt.subplot(2,3,jj+1)\n",
    "    plt.imshow(res[jj][0].reshape(28,28),cmap='gray',vmin=0, vmax=1)\n",
    "    plt.axis('off')"
   ]
  },
  {
   "cell_type": "code",
   "execution_count": 41,
   "metadata": {},
   "outputs": [
    {
     "name": "stdout",
     "output_type": "stream",
     "text": [
      "10000\n"
     ]
    }
   ],
   "source": [
    "p11, p12, p21, p22 = [], [], [], []\n",
    "p11t, p12t, p21t, p22t = [], [], [], []\n",
    "\n",
    "aa = np.arange(0,10000)#np.unique(np.random.random_integers(low=0, high=len(data_test['mnist']), size=10000))\n",
    "print(len(aa))\n",
    "for a in aa:\n",
    "    p11_, p12_, p21_, p22_= sess.run([rms11, rms12, rms21, rms22], feed_dict={data1test:data_test['mnist'][a],data2test:data_test['fmnist'][a]})\n",
    "    p11+=[p11_]\n",
    "    p12+=[p12_]\n",
    "    p21+=[p21_]\n",
    "    p22+=[p22_]"
   ]
  },
  {
   "cell_type": "code",
   "execution_count": 43,
   "metadata": {},
   "outputs": [
    {
     "name": "stdout",
     "output_type": "stream",
     "text": [
      "0.10673926\n",
      "0.10155665\n"
     ]
    }
   ],
   "source": [
    "print(np.mean(p11))\n",
    "print(np.mean(p22))"
   ]
  },
  {
   "cell_type": "code",
   "execution_count": 44,
   "metadata": {},
   "outputs": [
    {
     "data": {
      "text/plain": [
       "Text(0.5, 0, 'rms(x-recon)')"
      ]
     },
     "execution_count": 44,
     "metadata": {},
     "output_type": "execute_result"
    },
    {
     "name": "stderr",
     "output_type": "stream",
     "text": [
      "W1101 09:56:51.968466 139723418953536 font_manager.py:1282] findfont: Font family ['lmodern'] not found. Falling back to DejaVu Sans.\n",
      "W1101 09:56:52.013351 139723418953536 font_manager.py:1282] findfont: Font family ['lmodern'] not found. Falling back to DejaVu Sans.\n"
     ]
    },
    {
     "data": {
      "image/png": "[encoded data removed]",
      "text/plain": [
       "<Figure size 432x288 with 1 Axes>"
      ]
     },
     "metadata": {
      "needs_background": "light"
     },
     "output_type": "display_data"
    }
   ],
   "source": [
    "#decoder trained on mnist\n",
    "plt.title('decoder trained on mnist')\n",
    "_, bins, _=plt.hist(p11, label='mnist test',density=True, range=(0,0.6),bins=50)\n",
    "_=plt.hist(p12, alpha=0.6,label='fmnist', density=True, bins=bins)\n",
    "plt.legend()\n",
    "plt.xlabel('rms(x-recon)')"
   ]
  },
  {
   "cell_type": "code",
   "execution_count": 45,
   "metadata": {},
   "outputs": [
    {
     "data": {
      "text/plain": [
       "Text(0.5, 0, 'rms(x-recon)')"
      ]
     },
     "execution_count": 45,
     "metadata": {},
     "output_type": "execute_result"
    },
    {
     "data": {
      "image/png": "[encoded data removed]",
      "text/plain": [
       "<Figure size 432x288 with 1 Axes>"
      ]
     },
     "metadata": {
      "needs_background": "light"
     },
     "output_type": "display_data"
    }
   ],
   "source": [
    "#decoder trained on mnist\n",
    "plt.title('decoder trained on fmnist')\n",
    "_, bins, _=plt.hist(p21, label='mnist',density=True, range=(0,0.4), bins=50)\n",
    "_=plt.hist(p22, alpha=0.6,label='fmnist', density=True, bins=bins)\n",
    "plt.legend()\n",
    "plt.xlabel('rms(x-recon)')"
   ]
  },
  {
   "cell_type": "code",
   "execution_count": 51,
   "metadata": {},
   "outputs": [
    {
     "name": "stderr",
     "output_type": "stream",
     "text": [
      "/home/nessa/miniconda3/envs/tflow/lib/python3.7/site-packages/ipykernel_launcher.py:1: DeprecationWarning: This function is deprecated. Please call randint(0, 50000 + 1) instead\n",
      "  \"\"\"Entry point for launching an IPython kernel.\n"
     ]
    },
    {
     "name": "stdout",
     "output_type": "stream",
     "text": [
      "1189\n"
     ]
    }
   ],
   "source": [
    "aa = np.unique(np.random.random_integers(low=0, high=len(data_test['mnist']), size=1200))\n",
    "print(len(aa))\n",
    "for a in aa:\n",
    "    p11_, p12_, p21_, p22_= sess.run([prob11, prob12, prob21, prob22], feed_dict={data1test:data_test['mnist'][a],data2test:data_test['fmnist'][a]})\n",
    "    p11+=[p11_]\n",
    "    p12+=[p12_]\n",
    "    p21+=[p21_]\n",
    "    p22+=[p22_]\n",
    "    p11t_, p12t_, p21t_, p22t_= sess.run([prob11_, prob12_, prob21_, prob22_], feed_dict={data1train:data_train['mnist'][a],data2train:data_train['fmnist'][a]})\n",
    "    p11t+=[p11t_]\n",
    "    p12t+=[p12t_]\n",
    "    p21t+=[p21t_]\n",
    "    p22t+=[p22t_]"
   ]
  },
  {
   "cell_type": "code",
   "execution_count": 52,
   "metadata": {},
   "outputs": [
    {
     "data": {
      "text/plain": [
       "Text(0.5, 0, 'log p(x)')"
      ]
     },
     "execution_count": 52,
     "metadata": {},
     "output_type": "execute_result"
    },
    {
     "data": {
      "image/png": "[encoded data removed]",
      "text/plain": [
       "<Figure size 432x288 with 1 Axes>"
      ]
     },
     "metadata": {
      "needs_background": "light"
     },
     "output_type": "display_data"
    }
   ],
   "source": [
    "#decoder trained on mnist\n",
    "plt.title('decoder trained on mnist')\n",
    "_, bins, _=plt.hist(p11, label='mnist test',density=True, range=(-12000,-500), bins=50)\n",
    "_=plt.hist(p11t, alpha=0.6,label='mnist train', density=True, bins=bins)\n",
    "_=plt.hist(p12, alpha=0.6,label='fmnist', density=True, bins=bins)\n",
    "plt.legend()\n",
    "plt.xlabel('log p(x)')"
   ]
  },
  {
   "cell_type": "code",
   "execution_count": 53,
   "metadata": {},
   "outputs": [
    {
     "data": {
      "text/plain": [
       "Text(0.5, 0, 'log p(x)')"
      ]
     },
     "execution_count": 53,
     "metadata": {},
     "output_type": "execute_result"
    },
    {
     "data": {
      "image/png": "[encoded data removed]",
      "text/plain": [
       "<Figure size 432x288 with 1 Axes>"
      ]
     },
     "metadata": {
      "needs_background": "light"
     },
     "output_type": "display_data"
    }
   ],
   "source": [
    "#decoder trained on mnist\n",
    "plt.title('decoder trained on fmnist')\n",
    "_, bins, _=plt.hist(p21, label='mnist',density=True, range=(-12000,-500), bins=50)\n",
    "_=plt.hist(p22, alpha=0.6,label='fmnist', density=True, bins=bins)\n",
    "_=plt.hist(p22t, alpha=0.6,label='fmnist train', density=True, bins=bins)\n",
    "plt.legend()\n",
    "plt.xlabel('log p(x)')"
   ]
  },
  {
   "cell_type": "code",
   "execution_count": 58,
   "metadata": {},
   "outputs": [
    {
     "data": {
      "image/png": "[encoded data removed]",
      "text/plain": [
       "<Figure size 576x288 with 8 Axes>"
      ]
     },
     "metadata": {
      "needs_background": "light"
     },
     "output_type": "display_data"
    }
   ],
   "source": [
    "x_sample=sess.run(x_samples1)\n",
    "jj=1\n",
    "plt.figure(figsize=(4*2,2*2))\n",
    "for ii in range(8):\n",
    "    plt.subplot(2,4,jj)\n",
    "    plt.imshow(x_sample[ii].reshape(28,28),cmap='gray',vmin=0, vmax=1)\n",
    "    plt.axis('off')\n",
    "    jj+=1"
   ]
  },
  {
   "cell_type": "code",
   "execution_count": 57,
   "metadata": {},
   "outputs": [
    {
     "data": {
      "image/png": "[encoded data removed]",
      "text/plain": [
       "<Figure size 576x288 with 8 Axes>"
      ]
     },
     "metadata": {
      "needs_background": "light"
     },
     "output_type": "display_data"
    }
   ],
   "source": [
    "x_sample=sess.run(x_samples2)\n",
    "jj=1\n",
    "plt.figure(figsize=(4*2,2*2))\n",
    "for ii in range(8):\n",
    "    plt.subplot(2,4,jj)\n",
    "    plt.imshow(x_sample[ii].reshape(28,28),cmap='gray',vmin=0, vmax=1)\n",
    "    plt.axis('off')\n",
    "    jj+=1"
   ]
  },
  {
   "cell_type": "code",
   "execution_count": null,
   "metadata": {},
   "outputs": [],
   "source": []
  }
 ],
 "metadata": {
  "accelerator": "GPU",
  "colab": {
   "collapsed_sections": [],
   "include_colab_link": true,
   "name": "TrainNVP and measure Reconstruction Noise.ipynb",
   "provenance": [],
   "version": "0.3.2"
  },
  "kernelspec": {
   "display_name": "TensorFlow",
   "language": "python",
   "name": "tflow"
  },
  "language_info": {
   "codemirror_mode": {
    "name": "ipython",
    "version": 3
   },
   "file_extension": ".py",
   "mimetype": "text/x-python",
   "name": "python",
   "nbconvert_exporter": "python",
   "pygments_lexer": "ipython3",
   "version": "3.7.3"
  }
 },
 "nbformat": 4,
 "nbformat_minor": 1
}
